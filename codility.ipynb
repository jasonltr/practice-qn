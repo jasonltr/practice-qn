{
 "cells": [
  {
   "cell_type": "code",
   "execution_count": 23,
   "metadata": {},
   "outputs": [],
   "source": [
    "A = [1,3,6,4,1,2,5]"
   ]
  },
  {
   "cell_type": "code",
   "execution_count": 14,
   "metadata": {},
   "outputs": [
    {
     "name": "stdout",
     "output_type": "stream",
     "text": [
      "7\n"
     ]
    }
   ],
   "source": [
    "b = max(A)-1\n",
    "if max(A) < 0:\n",
    "    print(1)\n",
    "elif max(A)-1 in A:\n",
    "    print(max(A)+1)\n",
    "else:\n",
    "    print(max(A)-1)"
   ]
  },
  {
   "cell_type": "code",
   "execution_count": 24,
   "metadata": {},
   "outputs": [],
   "source": [
    "def solution(A):\n",
    "    if max(A) < 0:\n",
    "        x = 1\n",
    "    elif max(A)-1 in A:\n",
    "        x = max(A)+1\n",
    "    else:\n",
    "        x = max(A)-1\n",
    "    return x"
   ]
  },
  {
   "cell_type": "code",
   "execution_count": 25,
   "metadata": {},
   "outputs": [
    {
     "data": {
      "text/plain": [
       "7"
      ]
     },
     "execution_count": 25,
     "metadata": {},
     "output_type": "execute_result"
    }
   ],
   "source": [
    "solution(A)"
   ]
  },
  {
   "cell_type": "code",
   "execution_count": 64,
   "metadata": {},
   "outputs": [],
   "source": [
    "#bored robed\n",
    "\n",
    "x_1 = 'bored'\n",
    "x_2 = 'robed'"
   ]
  },
  {
   "cell_type": "code",
   "execution_count": 63,
   "metadata": {},
   "outputs": [
    {
     "name": "stdout",
     "output_type": "stream",
     "text": [
      "bdeor\n"
     ]
    }
   ],
   "source": [
    "x_1 = list(x_1.lower())\n",
    "x_1.sort()\n",
    "x_1 = ''.join(x_1)\n",
    "\n",
    "print(x_1)\n"
   ]
  },
  {
   "cell_type": "code",
   "execution_count": 65,
   "metadata": {},
   "outputs": [],
   "source": [
    "def anagram(x_1,x_2):\n",
    "    x_1 = list(x_1.lower())\n",
    "    x_1.sort()\n",
    "    x_1 = ''.join(x_1)\n",
    "    x_2 = list(x_2.lower())\n",
    "    x_2.sort()\n",
    "    x_2 = ''.join(x_2)\n",
    "    return x_1 == x_2\n",
    "    "
   ]
  },
  {
   "cell_type": "code",
   "execution_count": 66,
   "metadata": {},
   "outputs": [
    {
     "data": {
      "text/plain": [
       "True"
      ]
     },
     "execution_count": 66,
     "metadata": {},
     "output_type": "execute_result"
    }
   ],
   "source": [
    "anagram(x_1,x_2)"
   ]
  }
 ],
 "metadata": {
  "interpreter": {
   "hash": "31f2aee4e71d21fbe5cf8b01ff0e069b9275f58929596ceb00d14d90e3e16cd6"
  },
  "kernelspec": {
   "display_name": "Python 3.8.10 64-bit",
   "language": "python",
   "name": "python3"
  },
  "language_info": {
   "codemirror_mode": {
    "name": "ipython",
    "version": 3
   },
   "file_extension": ".py",
   "mimetype": "text/x-python",
   "name": "python",
   "nbconvert_exporter": "python",
   "pygments_lexer": "ipython3",
   "version": "3.8.10"
  },
  "orig_nbformat": 4
 },
 "nbformat": 4,
 "nbformat_minor": 2
}
