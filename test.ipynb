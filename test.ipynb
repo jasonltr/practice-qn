{
 "cells": [
  {
   "cell_type": "code",
   "execution_count": 2,
   "metadata": {},
   "outputs": [
    {
     "name": "stdout",
     "output_type": "stream",
     "text": [
      "2\n"
     ]
    }
   ],
   "source": [
    "x = 2\n",
    "print(x)"
   ]
  },
  {
   "cell_type": "code",
   "execution_count": 182,
   "metadata": {},
   "outputs": [
    {
     "name": "stdout",
     "output_type": "stream",
     "text": [
      "1\n",
      "2\n",
      "Fizz\n",
      "4\n",
      "Buzz\n",
      "Fizz\n",
      "7\n",
      "8\n",
      "Fizz\n",
      "Buzz\n",
      "11\n",
      "Fizz\n",
      "13\n",
      "14\n",
      "FizzBuzz\n"
     ]
    }
   ],
   "source": [
    "x = int(input())\n",
    "\n",
    "for i in range(1,x+1):\n",
    "    if i%3 == 0 and i%5 == 0:\n",
    "        print('FizzBuzz')\n",
    "    elif i%3 == 0:\n",
    "        print('Fizz')\n",
    "    elif i%5 == 0:\n",
    "        print('Buzz')\n",
    "    else:\n",
    "        print(i)"
   ]
  },
  {
   "cell_type": "code",
   "execution_count": 61,
   "metadata": {},
   "outputs": [],
   "source": [
    "baseFilename = input()\n",
    "# f = open('c_'+baseFilename,\"a+\")\n",
    "# g = open('cpp_'+baseFilename,\"a+\")\n",
    "# h = open('cs_'+baseFilename,\"a+\")\n",
    "\n",
    "with open(baseFilename) as main_file:\n",
    "    with open('c_'+baseFilename,\"a+\") as f:\n",
    "        for x in lines:\n",
    "            if x.endswith('.c\\n'):\n",
    "                f.write(x)\n",
    "    with open('cpp_'+baseFilename,\"a+\") as g:\n",
    "        for x in lines:\n",
    "            if x.endswith('.cpp\\n'):\n",
    "                g.write(x)\n",
    "    with open('cs_'+baseFilename,\"a+\") as h:\n",
    "        for x in lines:\n",
    "            if x.endswith('.cs\\n'):\n",
    "                h.write(x)"
   ]
  },
  {
   "cell_type": "code",
   "execution_count": 59,
   "metadata": {},
   "outputs": [
    {
     "name": "stdout",
     "output_type": "stream",
     "text": [
      "True\n"
     ]
    }
   ],
   "source": [
    "y = 'test.c'\n",
    "print(y.endswith('.c'))"
   ]
  },
  {
   "cell_type": "code",
   "execution_count": 60,
   "metadata": {},
   "outputs": [
    {
     "name": "stdout",
     "output_type": "stream",
     "text": [
      "False\n",
      "<class 'str'>\n",
      "False\n",
      "<class 'str'>\n",
      "True\n",
      "<class 'str'>\n"
     ]
    }
   ],
   "source": [
    "with open(baseFilename) as main_file:\n",
    "    for x in lines:\n",
    "        print(x.endswith(\".cs\\n\"))\n",
    "        print(type(x))"
   ]
  },
  {
   "cell_type": "code",
   "execution_count": null,
   "metadata": {},
   "outputs": [],
   "source": [
    "def isPalindrome(palindromStr):\n",
    "    "
   ]
  },
  {
   "cell_type": "code",
   "execution_count": 65,
   "metadata": {},
   "outputs": [
    {
     "name": "stdout",
     "output_type": "stream",
     "text": [
      "['a', 'b', 'a', 'b']\n",
      "abab\n"
     ]
    }
   ],
   "source": [
    "x = 'baba'\n",
    "y=list(x)\n",
    "y.reverse()\n",
    "y = ''.join(y)\n",
    "print(y)\n",
    "\n"
   ]
  },
  {
   "cell_type": "code",
   "execution_count": 72,
   "metadata": {},
   "outputs": [
    {
     "data": {
      "text/plain": [
       "'e l'"
      ]
     },
     "execution_count": 72,
     "metadata": {},
     "output_type": "execute_result"
    }
   ],
   "source": [
    "word = 'apple'\n",
    "\n",
    "y = list(word)\n",
    "y = y[-2:]\n",
    "y.reverse()\n",
    "y = ' '.join(y)\n",
    "y\n"
   ]
  },
  {
   "cell_type": "code",
   "execution_count": 161,
   "metadata": {},
   "outputs": [
    {
     "data": {
      "text/plain": [
       "[0, 1, 2, 3, 4]"
      ]
     },
     "execution_count": 161,
     "metadata": {},
     "output_type": "execute_result"
    }
   ],
   "source": [
    "\n",
    "numbers = [4,4,-2,-1,3]\n",
    "numbers.sort()\n",
    "numbers\n",
    "f = list(range(len(numbers)))\n",
    "f"
   ]
  },
  {
   "cell_type": "code",
   "execution_count": 181,
   "metadata": {},
   "outputs": [
    {
     "name": "stdout",
     "output_type": "stream",
     "text": [
      "-2 -1\n",
      "3 4\n"
     ]
    }
   ],
   "source": [
    "numbers.sort()\n",
    "d = []\n",
    "f = list(range(len(numbers)))\n",
    "\n",
    "for i in range(len(numbers)-1):\n",
    "    x = numbers[i+1] - numbers[i]\n",
    "    d.append(x)\n",
    "\n",
    "for i in range(len(d)):\n",
    "    if d[i]==0:\n",
    "        d[i]=9999\n",
    "\n",
    "minvalue = min(d)\n",
    "d.count(minvalue)\n",
    "l=[]\n",
    "\n",
    "if d.count(minvalue) >= 1:\n",
    "    for j,num in enumerate(d):\n",
    "        if num == minvalue:\n",
    "            l.append(j)\n",
    "\n",
    "\n",
    "for y in range(len(f)):\n",
    "    if y in l:\n",
    "        print(numbers[y],numbers[y+1])\n",
    "\n",
    "\n",
    "\n",
    "\n",
    " "
   ]
  },
  {
   "cell_type": "code",
   "execution_count": 236,
   "metadata": {},
   "outputs": [
    {
     "name": "stdout",
     "output_type": "stream",
     "text": [
      "['4', 'aaagmnrs', 'anagrams', 'code', 'doce']\n",
      "['4', 'aaagmnrs', 'anagrams', 'code', 'doce']\n"
     ]
    },
    {
     "data": {
      "text/plain": [
       "True"
      ]
     },
     "execution_count": 236,
     "metadata": {},
     "output_type": "execute_result"
    }
   ],
   "source": [
    "str = ['4','code','aaagmnrs','anagrams','doce']\n",
    "str = sorted(str)\n",
    "\n",
    "new = str[:]\n",
    "print(new)\n",
    "print(str)\n",
    "\n",
    "new[0] in str"
   ]
  },
  {
   "cell_type": "code",
   "execution_count": 238,
   "metadata": {},
   "outputs": [
    {
     "data": {
      "text/plain": [
       "['aaagmnrs', 'anagrams', 'code', 'doce']"
      ]
     },
     "execution_count": 238,
     "metadata": {},
     "output_type": "execute_result"
    }
   ],
   "source": [
    "str = [item for item in str if not item.isdigit()]\n",
    "str"
   ]
  },
  {
   "cell_type": "code",
   "execution_count": 239,
   "metadata": {},
   "outputs": [
    {
     "name": "stdout",
     "output_type": "stream",
     "text": [
      "['aaagmnrs', 'code']\n"
     ]
    }
   ],
   "source": [
    "new = str[:]\n",
    "for i in range(len(new)-1):\n",
    "    if sorted(list(new[i]))==sorted(list(new[i+1])):\n",
    "        if new[i+1] in str:\n",
    "            str.remove(new[i+1])\n",
    "print(str)"
   ]
  },
  {
   "cell_type": "code",
   "execution_count": 210,
   "metadata": {},
   "outputs": [
    {
     "name": "stdout",
     "output_type": "stream",
     "text": [
      "['code', 'doce', 'ecod', 'frame', 'framer']\n",
      "['code', 'ecod', 'framer']\n"
     ]
    }
   ],
   "source": [
    "print(new)\n",
    "print(str)"
   ]
  },
  {
   "cell_type": "code",
   "execution_count": 106,
   "metadata": {},
   "outputs": [
    {
     "data": {
      "text/plain": [
       "['code', 'doce', 'ecod', 'frame', 'framer']"
      ]
     },
     "execution_count": 106,
     "metadata": {},
     "output_type": "execute_result"
    }
   ],
   "source": [
    "str = sorted(str)\n",
    "str"
   ]
  },
  {
   "cell_type": "code",
   "execution_count": 126,
   "metadata": {},
   "outputs": [
    {
     "name": "stdout",
     "output_type": "stream",
     "text": [
      "['aefmr', 'aefmrr', 'cdeo']\n"
     ]
    }
   ],
   "source": [
    "str = sorted(str)\n",
    "str2 = []\n",
    "for i in str:\n",
    "    y = list(i)\n",
    "    y = sorted(y)\n",
    "    y = ''.join(y)\n",
    "    str2.append(y)\n",
    "    str2 = sorted(str2)\n",
    "str4 = set(str2)\n",
    "print(sorted(list(str4)))"
   ]
  },
  {
   "cell_type": "code",
   "execution_count": 119,
   "metadata": {},
   "outputs": [
    {
     "name": "stdout",
     "output_type": "stream",
     "text": [
      "['aefmr', 'aefmrr']\n"
     ]
    }
   ],
   "source": [
    "str3 = []\n",
    "for i in range(len(str2)-2):\n",
    "    if sorted(list(str2[i]))!=sorted(list(str2[i+1])) and sorted(list(str2[i]))!=sorted(list(str2[i+2])):\n",
    "        str3.append(str2[i])\n",
    "print(str3)\n",
    "    # print(sorted(list(str[i]))==sorted(list(str[i+1])))"
   ]
  },
  {
   "cell_type": "code",
   "execution_count": 242,
   "metadata": {},
   "outputs": [],
   "source": [
    "# instructionCount = 100 #keys tested per sec\n",
    "# validityPeriod = 1000 #seconds\n",
    "# keys[] size in n = 8\n",
    "\n",
    "keys = [83315,22089,19068,64911,67636,4640,80192,989671]\n"
   ]
  },
  {
   "cell_type": "code",
   "execution_count": null,
   "metadata": {},
   "outputs": [],
   "source": [
    "for i in keys:\n",
    "    for j in keys:\n",
    "        if keys[i]%keys[j]=0\n",
    "        print (i)\n",
    "        print(j)\n"
   ]
  },
  {
   "cell_type": "code",
   "execution_count": 273,
   "metadata": {},
   "outputs": [],
   "source": [
    "def encryptionValidity(instructionCount, validityPeriod, keys):\n",
    "    x=[0]* len(keys)\n",
    "    for i in range(len(keys)):\n",
    "        for j in range(len(keys)):\n",
    "            if keys[i]%keys[j]==0:\n",
    "                x[i] +=1\n",
    "    degree_of_divisibility = max(x)\n",
    "    return instructionCount*validityPeriod > degree_of_divisibility*10**5,x,degree_of_divisibility*10**5"
   ]
  },
  {
   "cell_type": "code",
   "execution_count": 274,
   "metadata": {},
   "outputs": [
    {
     "data": {
      "text/plain": [
       "(False, [1, 2, 3], 300000)"
      ]
     },
     "execution_count": 274,
     "metadata": {},
     "output_type": "execute_result"
    }
   ],
   "source": [
    "encryptionValidity(100,1000,[2,4,8])"
   ]
  }
 ],
 "metadata": {
  "interpreter": {
   "hash": "5b3ded1ccb95c1d9bd405e7b823d9e85424cde40fbb5985eb47e999ef50e15b4"
  },
  "kernelspec": {
   "display_name": "Python 3.8.10 64-bit",
   "language": "python",
   "name": "python3"
  },
  "language_info": {
   "codemirror_mode": {
    "name": "ipython",
    "version": 3
   },
   "file_extension": ".py",
   "mimetype": "text/x-python",
   "name": "python",
   "nbconvert_exporter": "python",
   "pygments_lexer": "ipython3",
   "version": "3.8.10"
  },
  "orig_nbformat": 4
 },
 "nbformat": 4,
 "nbformat_minor": 2
}
