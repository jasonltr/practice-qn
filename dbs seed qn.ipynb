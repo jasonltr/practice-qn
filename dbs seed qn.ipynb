{
 "cells": [
  {
   "cell_type": "code",
   "execution_count": null,
   "metadata": {},
   "outputs": [],
   "source": [
    "def main():\n",
    "    x = input()\n",
    "    y = input()\n",
    "    yint=map(int,y)\n",
    "    z = []\n",
    "    for i in yint:\n",
    "        z=z.append(factors(i))\n",
    "    return z\n",
    "        \n",
    "def factors(nr):\n",
    "    i = 2\n",
    "    factors = []\n",
    "    while i <= nr:\n",
    "        if (nr % i) == 0:\n",
    "            factors.append(i)\n",
    "            nr = nr / i\n",
    "        else:\n",
    "            i = i + 1\n",
    "    return factors\n",
    "    \n",
    "if __name__ == '__main__':\n",
    "    print(main())"
   ]
  },
  {
   "cell_type": "code",
   "execution_count": 39,
   "metadata": {},
   "outputs": [
    {
     "name": "stdout",
     "output_type": "stream",
     "text": [
      "5\n",
      "3 4 8 9 12\n",
      "[4, 8, 12, 3, 9]\n"
     ]
    }
   ],
   "source": [
    "def main():\n",
    "    y = input()\n",
    "    x = input()\n",
    "    x=x.split()\n",
    "    x= list(map(int, x))\n",
    "    z=[]\n",
    "    for i in x:\n",
    "        z.append(factors(i))\n",
    "    j=[]\n",
    "    j=sorted(range(len(z)), key=lambda k: z[k])\n",
    "\n",
    "    x2 = [x[i] for i in j] \n",
    "    x2\n",
    "    return x2\n",
    "\n",
    "def factors(nr):\n",
    "    i = 2\n",
    "    factors = []\n",
    "    while i <= nr:\n",
    "        if (nr % i) == 0:\n",
    "            factors.append(i)\n",
    "            nr = nr / i\n",
    "        else:\n",
    "            i = i + 1\n",
    "    return factors\n",
    "\n",
    "if __name__ == '__main__':\n",
    "    print(main())"
   ]
  },
  {
   "cell_type": "code",
   "execution_count": 3,
   "metadata": {},
   "outputs": [
    {
     "data": {
      "text/plain": [
       "[4, 8, 12, 3, 9]"
      ]
     },
     "execution_count": 3,
     "metadata": {},
     "output_type": "execute_result"
    }
   ],
   "source": [
    "z=[]\n",
    "x = [3,4,8,9,12]\n",
    "for i in x:\n",
    "    z.append(factors(i))\n",
    "j=[]\n",
    "j=sorted(range(len(z)), key=lambda k: z[k])\n",
    "\n",
    "x2 = [x[i] for i in j] \n",
    "x2"
   ]
  },
  {
   "cell_type": "code",
   "execution_count": 14,
   "metadata": {},
   "outputs": [
    {
     "name": "stdout",
     "output_type": "stream",
     "text": [
      "3 4 8 9 12\n"
     ]
    }
   ],
   "source": [
    "y = input()"
   ]
  },
  {
   "cell_type": "code",
   "execution_count": 38,
   "metadata": {},
   "outputs": [
    {
     "data": {
      "text/plain": [
       "[3, 4, 8, 9, 12]"
      ]
     },
     "execution_count": 38,
     "metadata": {},
     "output_type": "execute_result"
    }
   ],
   "source": [
    "y = '3 4 8 9 12'\n",
    "y=y.split()\n",
    "y= list(map(int, y))\n",
    "y"
   ]
  },
  {
   "cell_type": "code",
   "execution_count": 23,
   "metadata": {},
   "outputs": [
    {
     "name": "stdout",
     "output_type": "stream",
     "text": [
      "['apple', 'banana#cherry#orange']\n"
     ]
    }
   ],
   "source": [
    "txt = \"apple#banana#cherry#orange\"\n",
    "\n",
    "# setting the maxsplit parameter to 1, will return a list with 2 elements!\n",
    "x = txt.split(\"#\", 1)\n",
    "\n",
    "print(x) "
   ]
  },
  {
   "cell_type": "code",
   "execution_count": null,
   "metadata": {},
   "outputs": [],
   "source": [
    "l = [3,4,8,9,12]\n",
    "m = [1, 2, 4, 0, 3]\n",
    "l2 = [l[i] for i in m] \n",
    "l2\n"
   ]
  }
 ],
 "metadata": {
  "kernelspec": {
   "display_name": "Python 3",
   "language": "python",
   "name": "python3"
  },
  "language_info": {
   "codemirror_mode": {
    "name": "ipython",
    "version": 3
   },
   "file_extension": ".py",
   "mimetype": "text/x-python",
   "name": "python",
   "nbconvert_exporter": "python",
   "pygments_lexer": "ipython3",
   "version": "3.8.5"
  }
 },
 "nbformat": 4,
 "nbformat_minor": 4
}
