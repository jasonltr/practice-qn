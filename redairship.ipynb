{
 "cells": [
  {
   "cell_type": "code",
   "execution_count": null,
   "metadata": {},
   "outputs": [],
   "source": [
    "# i = 0, y = 0, z =1\n",
    "# i = 1, y = 0, z =2\n",
    "# i = 2, y = 1. z =2\n",
    "# i = 3, y = 0, z =3\n",
    "# i = 4, y = 1, z =3\n",
    "# i = 5, y = 2, z =3\n",
    "\n",
    "# i = 0, y = 0, z =1\n",
    "# Check i=1, it is different from i=0, assign y=0 and z=1 to y_list[0] and z_list[0], reset y back to 0 and z back to 1\n",
    "# increment i by 1\n",
    "\n",
    "# i = 1, y = 0, z =1  \n",
    "# Check i=2, A[1] = A[2], assign y=0 to y_list[1],\n",
    "# increment y by 1, z by 1 and i by 1\n",
    "\n",
    "# i = 2, y = 1, z = 2\n",
    "# check i=3, A[2]=/=A[3], assign y=1 to y_list[2], assign z=2 to z_list[2] and z_list[1], reset y back to 0 and z back to 1\n",
    "# increment i by 1\n",
    "\n",
    "# i = 3, y=0, z=1\n",
    "# check i=4, A[3]=A[4], assign y=0 to y_list[3],\n",
    "# increment y by 1, z by 1 and i by 1\n",
    "\n",
    "# i = 4, y=1, z=2\n",
    "# check i=5, A[4]=A[5], assign y=1 to y_list[4],\n",
    "# increment y by 1, z by 1 and i by 1\n",
    "\n",
    "# i = 5, y=2, z=3\n",
    "# end of list, assign y=2 to y_list[5], assign z=3 to z_list[3],[4] and [5]\n",
    "\n",
    "# 5     y[n] z[n]  \n",
    "# Nod   0    1 \n",
    "# Blink 0    2\n",
    "# Blink 1    2\n",
    "# Nod   0    2\n",
    "# Nod   1    2\n"
   ]
  },
  {
   "cell_type": "code",
   "execution_count": 12,
   "metadata": {},
   "outputs": [],
   "source": [
    "n = 5\n",
    "A = ['Nod','Blink','Blink','Nod','Nod','Nod','Nod','Shake','Shake','Shake','Shake','Shake','Shake','Shake','Shake','Shake']\n",
    "A.append('last value')"
   ]
  },
  {
   "cell_type": "code",
   "execution_count": 13,
   "metadata": {},
   "outputs": [
    {
     "name": "stdout",
     "output_type": "stream",
     "text": [
      "['Nod', 'Blink', 'Blink', 'Nod', 'Nod', 'Nod', 'Nod', 'Shake', 'Shake', 'Shake', 'Shake', 'Shake', 'Shake', 'Shake', 'Shake', 'Shake', 'last value']\n",
      "[0, 0, 1, 0, 1, 2, 3, 0, 1, 2, 3, 4, 5, 6, 7, 8, 0]\n"
     ]
    }
   ],
   "source": [
    "# create a list of same length as the input string array\n",
    "# iterate through the list, always assign the current value of y to the corresponding element\n",
    "# if next word is different, reset y to 0, if next word is same, increment y by 1\n",
    "y_list = [0]*len(A)\n",
    "y = 0\n",
    "for i in range(len(A)-1):\n",
    "    if A[i] != A[i+1]:\n",
    "        y_list[i]=y\n",
    "        y=0\n",
    "    elif A[i] == A[i+1]:\n",
    "        y_list[i]=y\n",
    "        y=y+1\n",
    "print(A)\n",
    "print(y_list)"
   ]
  },
  {
   "cell_type": "code",
   "execution_count": 14,
   "metadata": {},
   "outputs": [
    {
     "name": "stdout",
     "output_type": "stream",
     "text": [
      "[1, 0, 2, 0, 0, 0, 4, 0, 0, 0, 0, 0, 0, 0, 0, 9, 0]\n",
      "[1, 2, 2, 4, 4, 4, 4, 9, 9, 9, 9, 9, 9, 9, 9, 9, 0]\n"
     ]
    }
   ],
   "source": [
    "# create a list of same length as the input string array\n",
    "# iterate through the list, \n",
    "# if next word is different, assign z to the current element and reset z to 1\n",
    "# if next word is the same, increment z by 1\n",
    "z_list = [0]*len(A)\n",
    "z=1\n",
    "for i in range(len(A)-1):\n",
    "    if A[i] != A[i+1]:\n",
    "        z_list[i]=z\n",
    "        z=1\n",
    "    elif A[i] == A[i+1]:\n",
    "        z=z+1\n",
    "print(z_list)\n",
    "\n",
    "# this for loop iterates through z_list from the back, and replaces all the 0s with the correct z value for that word        \n",
    "for i in range(len(z_list)-2,-1,-1):\n",
    "    if z_list[i]==0:\n",
    "        z_list[i]=z_list[i+1]\n",
    "\n",
    "print(z_list)"
   ]
  },
  {
   "cell_type": "code",
   "execution_count": 15,
   "metadata": {},
   "outputs": [],
   "source": [
    "Nod = 'Please nod your head'\n",
    "Blink = 'Please blink'\n",
    "Shake = 'Please shake'\n"
   ]
  },
  {
   "cell_type": "code",
   "execution_count": 16,
   "metadata": {},
   "outputs": [
    {
     "name": "stdout",
     "output_type": "stream",
     "text": [
      "Please nod your head (0/1)\n",
      "Please blink (0/2)\n",
      "Please blink (1/2)\n",
      "Please nod your head (0/4)\n",
      "Please nod your head (1/4)\n",
      "Please nod your head (2/4)\n",
      "Please nod your head (3/4)\n",
      "Please shake (0/9)\n",
      "Please shake (1/9)\n",
      "Please shake (2/9)\n",
      "Please shake (3/9)\n",
      "Please shake (4/9)\n",
      "Please shake (5/9)\n",
      "Please shake (6/9)\n",
      "Please shake (7/9)\n",
      "Please shake (8/9)\n"
     ]
    }
   ],
   "source": [
    "for i in range(len(A)):\n",
    "    if A[i] == 'Nod':\n",
    "        print(Nod+' '+'('+str(y_list[i])+'/'+str(z_list[i])+')')\n",
    "    elif A[i] == 'Blink':\n",
    "        print(Blink+' '+'('+str(y_list[i])+'/'+str(z_list[i])+')')\n",
    "    elif A[i] == 'Shake':\n",
    "        print(Shake+' '+'('+str(y_list[i])+'/'+str(z_list[i])+')')"
   ]
  }
 ],
 "metadata": {
  "interpreter": {
   "hash": "31f2aee4e71d21fbe5cf8b01ff0e069b9275f58929596ceb00d14d90e3e16cd6"
  },
  "kernelspec": {
   "display_name": "Python 3.8.10 64-bit",
   "language": "python",
   "name": "python3"
  },
  "language_info": {
   "codemirror_mode": {
    "name": "ipython",
    "version": 3
   },
   "file_extension": ".py",
   "mimetype": "text/x-python",
   "name": "python",
   "nbconvert_exporter": "python",
   "pygments_lexer": "ipython3",
   "version": "3.8.10"
  },
  "orig_nbformat": 4
 },
 "nbformat": 4,
 "nbformat_minor": 2
}
